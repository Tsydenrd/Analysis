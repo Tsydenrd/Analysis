{
 "cells": [
  {
   "cell_type": "markdown",
   "metadata": {},
   "source": [
    "### Jupyter Notebook для первой лекции, где мы рассмотрим данные ATLAS Open Data, их структуру и базовые операции с ними. В ноутбуке будет:\n",
    "\n",
    "1. Чтение ROOT файлов с помощью uproot\n",
    "2. Просмотр структуры данных\n",
    "3. Вывод первых строк для ознакомления\n",
    "4. Базовая визуализация"
   ]
  },
  {
   "cell_type": "markdown",
   "metadata": {},
   "source": [
    "### First time setup on your computer\n",
    "This first cell only needs to be run the first time you open this notebook on your computer.\n",
    "If you close Jupyter and re-open on the same computer, you won't need to run this first cell again."
   ]
  },
  {
   "cell_type": "raw",
   "metadata": {},
   "source": [
    "import yaml\n",
    "import subprocess\n",
    "import sys\n",
    "\n",
    "# Path to your binder/environment.yml file\n",
    "environment_file = \"environment.yml\"\n",
    "\n",
    "# Packages you want to install\n",
    "required_packages = ['pandas', 'numpy', 'uproot' , 'uproot3' , 'matplotlib']\n",
    "\n",
    "# Load the environment.yml file\n",
    "with open(environment_file, 'r') as file:\n",
    "    environment_data = yaml.safe_load(file)\n",
    "\n",
    "# Extract dependencies\n",
    "dependencies = environment_data.get('dependencies', [])\n",
    "\n",
    "# Create a list to hold the packages with versions\n",
    "install_packages = []\n",
    "\n",
    "# Find the versions for the required packages\n",
    "for dep in dependencies:\n",
    "    # Check if the dependency is a string (package name)\n",
    "    if isinstance(dep, str):\n",
    "        for package in required_packages:\n",
    "            if dep.startswith(package):\n",
    "                install_packages.append(dep)\n",
    "\n",
    "# Install packages using pip\n",
    "if install_packages:\n",
    "    print(f\"Installing packages: {install_packages}\")\n",
    "    subprocess.run([sys.executable, \"-m\", \"pip\", \"install\", \"--upgrade\", \"--user\"] + install_packages)\n",
    "else:\n",
    "    print(\"No matching packages found in environment.yml.\")"
   ]
  },
  {
   "cell_type": "markdown",
   "metadata": {},
   "source": [
    "## To setup everytime"
   ]
  },
  {
   "cell_type": "code",
   "execution_count": null,
   "metadata": {},
   "outputs": [],
   "source": [
    "import urllib.request # for downloading files\n",
    "import pandas as pd # to store data as dataframes\n",
    "import numpy as np # for numerical calculations such as histogramming\n",
    "import uproot3\n",
    "import uproot\n",
    "import awkward as ak\n",
    "import matplotlib.pyplot as plt # for plotting"
   ]
  },
  {
   "cell_type": "markdown",
   "metadata": {},
   "source": [
    "## Где находятся данные?\n",
    "\n",
    "В эксперименте ATLAS данные разбиты на несколько файлов в зависимости от **накопленной светимости (luminosity)**. Светимость измеряется в **фемтобарнах (fb⁻¹)** и определяет количество собранных событий за определённый период работы детектора. Чем выше светимость, тем больше данных было записано.\n",
    "\n",
    "Файлы данных:\n",
    "- `data_A.exactly2lep.root` → **Светимость 0.5 fb⁻¹**\n",
    "- `data_B.exactly2lep.root` → **Светимость 1.9 fb⁻¹**\n",
    "- `data_C.exactly2lep.root` → **Светимость 2.9 fb⁻¹**\n",
    "- `data_D.exactly2lep.root` → **Светимость 4.7 fb⁻¹**\n",
    "- Объединённые данные `data_A + data_B + data_C + data_D` → **Светимость 10 fb⁻¹**\n",
    "\n",
    "🔹 **Что это значит?**\n",
    "Разные файлы содержат данные, записанные в разное время работы детектора ATLAS. Более поздние данные (например, `data_D`) соответствуют более высокой интегральной светимости, то есть они включают больше столкновений, а значит, потенциально больше интересных событий."
   ]
  },
  {
   "cell_type": "code",
   "execution_count": null,
   "metadata": {},
   "outputs": [],
   "source": [
    "filename = 'data_A.exactly2lep.root'\n",
    "url = 'https://atlas-opendata.web.cern.ch/atlas-opendata/samples/2020/exactly2lep/Data/'+filename\n",
    "urllib.request.urlretrieve(url, filename)"
   ]
  },
  {
   "cell_type": "code",
   "execution_count": null,
   "metadata": {},
   "outputs": [],
   "source": [
    "file = uproot.open(filename)"
   ]
  },
  {
   "cell_type": "code",
   "execution_count": null,
   "metadata": {},
   "outputs": [],
   "source": [
    "# Проверяем наличие дерева\n",
    "tree_name = \"mini\"  # Имя дерева\n",
    "if tree_name in file:\n",
    "    tree = file[tree_name]\n",
    "    print(\"List of branches:\")\n",
    "    print(tree.keys())\n",
    "else:\n",
    "    print(\"Error: TTree is not found!\")"
   ]
  },
  {
   "cell_type": "code",
   "execution_count": null,
   "metadata": {},
   "outputs": [],
   "source": [
    "# Определяем бранчи, относящиеся к лептонам\n",
    "lep_branches = ['lep_n', 'lep_truthMatched', 'lep_trigMatched', 'lep_pt', 'lep_eta', 'lep_phi', 'lep_E', \n",
    "                'lep_z0', 'lep_charge', 'lep_type', 'lep_isTightID', 'lep_ptcone30', 'lep_etcone20', \n",
    "                'lep_trackd0pvunbiased', 'lep_tracksigd0pvunbiased']\n",
    "\n",
    "# Читаем данные в Pandas DataFrame\n",
    "df_leptons = tree.arrays(lep_branches)  # Используем Pandas"
   ]
  },
  {
   "cell_type": "code",
   "execution_count": null,
   "metadata": {},
   "outputs": [],
   "source": [
    "# Выводим первые строки с переменной lep_pt\n",
    "print(\"Branch lep_pt in MeV:\")\n",
    "print(df_leptons['lep_pt'])"
   ]
  },
  {
   "cell_type": "code",
   "execution_count": null,
   "metadata": {},
   "outputs": [],
   "source": [
    "# Выводим первые строки с переменной lep_pt\n",
    "print(\"Branch lep_pt in GeV:\")\n",
    "print(df_leptons['lep_pt']/1000)"
   ]
  },
  {
   "cell_type": "code",
   "execution_count": null,
   "metadata": {},
   "outputs": [],
   "source": [
    "def plot_distribution(data, column, bins=50, range=None, xlabel=None, ylabel=\"Number of events\", title=None):\n",
    "    \"\"\"\n",
    "    Функция для построения гистограммы заданной переменной из данных.\n",
    "    \n",
    "    Parameters:\n",
    "    - data: DataFrame (Pandas) или Awkward Array\n",
    "    - column: str, название столбца для построения\n",
    "    - bins: int, количество бинов в гистограмме\n",
    "    - range: tuple, диапазон значений (xmin, xmax)\n",
    "    - xlabel: str, подпись оси X\n",
    "    - ylabel: str, подпись оси Y (по умолчанию \"Number of events\")\n",
    "    - title: str, заголовок графика\n",
    "    \"\"\"\n",
    "    plt.figure(figsize=(8,6))\n",
    "    \n",
    "    # Преобразуем в плоский массив, если данные в Awkward Array\n",
    "    column_data = ak.flatten(data[column]).to_numpy()\n",
    "    print(column_data)\n",
    "    \n",
    "    plt.hist(column_data, bins=bins, range=range, alpha=0.7, color='blue', edgecolor='black')\n",
    "    plt.xlabel(xlabel if xlabel else column)\n",
    "    plt.ylabel(ylabel)\n",
    "    plt.title(title if title else f\"Distribution of {column}\")\n",
    "    plt.grid()\n",
    "    plt.show()"
   ]
  },
  {
   "cell_type": "code",
   "execution_count": null,
   "metadata": {},
   "outputs": [],
   "source": [
    "# Строим гистограмму для lep_pt\n",
    "plot_distribution(df_leptons, 'lep_pt', bins=50, range=(0, 150000), xlabel=r\"Lepton $p_T$ (MeV)\", title=\"Lepton Transverse Momentum Distribution\")"
   ]
  },
  {
   "cell_type": "code",
   "execution_count": null,
   "metadata": {},
   "outputs": [],
   "source": [
    "# Выводим первые строки с переменной lep_eta\n",
    "print(\"Branch lep_eta:\")\n",
    "print(df_leptons['lep_eta'])"
   ]
  },
  {
   "cell_type": "code",
   "execution_count": null,
   "metadata": {},
   "outputs": [],
   "source": [
    "# Строим гистограмму для lep_eta\n",
    "plot_distribution(df_leptons, 'lep_eta', bins=50, range=(-3, 3), xlabel=r\"Lepton $eta$\", title=\"Lepton $eta$\")"
   ]
  },
  {
   "cell_type": "code",
   "execution_count": null,
   "metadata": {},
   "outputs": [],
   "source": [
    "# Выводим первые строки с переменной lep_eta\n",
    "print(\"Branch lep_phi:\")\n",
    "print(df_leptons['lep_phi'])"
   ]
  },
  {
   "cell_type": "code",
   "execution_count": null,
   "metadata": {},
   "outputs": [],
   "source": [
    "# Строим гистограмму для lep_pt\n",
    "plot_distribution(df_leptons, 'lep_phi', bins=50, range=(-4, 4), xlabel=r\"Lepton $phi$\", title=\"Lepton $phi$\")"
   ]
  },
  {
   "cell_type": "code",
   "execution_count": null,
   "metadata": {},
   "outputs": [],
   "source": [
    "plot_distribution(df_leptons, 'lep_charge', bins=50, range=(-2, 2), xlabel=r\"Lepton charge\", title=\"Lepton $charge$\")"
   ]
  },
  {
   "cell_type": "markdown",
   "metadata": {},
   "source": [
    "### А как понять, где мюон, где электрон, а где тау-лептон?"
   ]
  },
  {
   "cell_type": "code",
   "execution_count": null,
   "metadata": {},
   "outputs": [],
   "source": [
    "print(\"Branch lep_type:\")\n",
    "print(df_leptons['lep_type'])"
   ]
  },
  {
   "cell_type": "markdown",
   "metadata": {},
   "source": [
    "Checking the PDG ID of particles: https://pdg.lbl.gov/2020/reviews/rpp2020-rev-monte-carlo-numbering.pdf "
   ]
  },
  {
   "cell_type": "code",
   "execution_count": null,
   "metadata": {},
   "outputs": [],
   "source": [
    "# Строим гистограмму для lep_eta\n",
    "plot_distribution(df_leptons, 'lep_type', bins=50, range=(10, 20), xlabel=r\"Lepton type\", title=\"Lepton type\")"
   ]
  },
  {
   "cell_type": "code",
   "execution_count": null,
   "metadata": {},
   "outputs": [],
   "source": [
    "# Create masks for electrons and muons\n",
    "electron_mask = df_leptons['lep_type'] == 11  # 11 corresponds to electrons\n",
    "muon_mask = df_leptons['lep_type'] == 13  # 13 corresponds to muons"
   ]
  },
  {
   "cell_type": "code",
   "execution_count": null,
   "metadata": {},
   "outputs": [],
   "source": [
    "# Apply the mask and flatten the arrays\n",
    "electron_pt = ak.flatten(df_leptons['lep_pt'][electron_mask]).to_numpy()\n",
    "muon_pt = ak.flatten(df_leptons['lep_pt'][muon_mask]).to_numpy()"
   ]
  },
  {
   "cell_type": "code",
   "execution_count": null,
   "metadata": {},
   "outputs": [],
   "source": [
    "# Convert MeV to GeV if necessary\n",
    "electron_pt = electron_pt / 1000 if np.median(electron_pt) > 1000 else electron_pt\n",
    "muon_pt = muon_pt / 1000 if np.median(muon_pt) > 1000 else muon_pt"
   ]
  },
  {
   "cell_type": "code",
   "execution_count": null,
   "metadata": {},
   "outputs": [],
   "source": [
    "# Plot both distributions\n",
    "plt.figure(figsize=(8,6))\n",
    "plt.hist(electron_pt, bins=50, range=(0, 150), alpha=0.7, color='red', edgecolor='black', label='Electrons')\n",
    "plt.hist(muon_pt, bins=50, range=(0, 150), alpha=0.7, color='blue', edgecolor='black', label='Muons')\n",
    "\n",
    "plt.xlabel(r\"$p_T$ (GeV)\")\n",
    "plt.ylabel(\"Number of leptons\")\n",
    "plt.title(\"Transverse Momentum Distribution\")\n",
    "plt.legend()\n",
    "plt.grid()\n",
    "plt.show()"
   ]
  },
  {
   "cell_type": "code",
   "execution_count": null,
   "metadata": {},
   "outputs": [],
   "source": [
    "# Apply the mask and flatten the arrays\n",
    "electron_eta = ak.flatten(df_leptons['lep_eta'][electron_mask]).to_numpy()\n",
    "muon_eta = ak.flatten(df_leptons['lep_eta'][muon_mask]).to_numpy()"
   ]
  },
  {
   "cell_type": "code",
   "execution_count": null,
   "metadata": {},
   "outputs": [],
   "source": [
    "# Plot both distributions\n",
    "plt.figure(figsize=(8,6))\n",
    "plt.hist(electron_eta, bins=50, range=(-3, 3), alpha=0.7, color='red', edgecolor='black', label='Electrons')\n",
    "# plt.hist(muon_eta, bins=50, range=(-3, 3), alpha=0.7, color='blue', edgecolor='black', label='Muons')\n",
    "\n",
    "plt.xlabel(r\" eta\")\n",
    "plt.ylabel(\"Number of electrons\")\n",
    "plt.title(\"Eta distribution\")\n",
    "plt.legend()\n",
    "plt.grid()\n",
    "plt.show()\n",
    "\n",
    "# Plot both distributions\n",
    "plt.figure(figsize=(8,6))\n",
    "# plt.hist(electron_eta, bins=50, range=(-3, 3), alpha=0.7, color='red', edgecolor='black', label='Electrons')\n",
    "plt.hist(muon_eta, bins=50, range=(-3, 3), alpha=0.7, color='blue', edgecolor='black', label='Muons')\n",
    "\n",
    "plt.xlabel(r\" eta\")\n",
    "plt.ylabel(\"Number of muons\")\n",
    "plt.title(\"Eta distribution\")\n",
    "plt.legend()\n",
    "plt.grid()\n",
    "plt.show()\n"
   ]
  },
  {
   "cell_type": "markdown",
   "metadata": {},
   "source": [
    "### Задание: \n",
    "\n",
    "1. Посмотрите на распределение тау-лептонов, и любые другие объекты, которые вам кажутся интересными\n",
    "2. Сейчас вы работаетe с Data_A, попробуйте посмотреть на MC данные, подумайте, почему результаты отличаются (https://atlas-opendata.web.cern.ch/atlas-opendata/samples/2020/exactly2lep/MC/mc_361106.Zee.exactly2lep.root, https://atlas-opendata.web.cern.ch/atlas-opendata/samples/2020/exactly2lep/MC/mc_361107.Zmumu.exactly2lep.root)"
   ]
  },
  {
   "cell_type": "markdown",
   "metadata": {},
   "source": [
    "<a id='contents'></a>"
   ]
  },
  {
   "cell_type": "markdown",
   "metadata": {},
   "source": [
    "<a id='running'></a>"
   ]
  },
  {
   "cell_type": "code",
   "execution_count": null,
   "metadata": {},
   "outputs": [],
   "source": []
  },
  {
   "cell_type": "code",
   "execution_count": null,
   "metadata": {},
   "outputs": [],
   "source": []
  },
  {
   "cell_type": "code",
   "execution_count": null,
   "metadata": {},
   "outputs": [],
   "source": []
  }
 ],
 "metadata": {
  "kernelspec": {
   "display_name": "Python 3 (ipykernel)",
   "language": "python",
   "name": "python3"
  },
  "language_info": {
   "codemirror_mode": {
    "name": "ipython",
    "version": 3
   },
   "file_extension": ".py",
   "mimetype": "text/x-python",
   "name": "python",
   "nbconvert_exporter": "python",
   "pygments_lexer": "ipython3",
   "version": "3.12.9"
  }
 },
 "nbformat": 4,
 "nbformat_minor": 4
}
